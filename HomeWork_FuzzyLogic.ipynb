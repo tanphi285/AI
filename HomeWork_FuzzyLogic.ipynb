{
  "nbformat": 4,
  "nbformat_minor": 0,
  "metadata": {
    "colab": {
      "provenance": [],
      "authorship_tag": "ABX9TyOjWu0NMy/PSZVAU/ZtyvUX",
      "include_colab_link": true
    },
    "kernelspec": {
      "name": "python3",
      "display_name": "Python 3"
    },
    "language_info": {
      "name": "python"
    }
  },
  "cells": [
    {
      "cell_type": "markdown",
      "metadata": {
        "id": "view-in-github",
        "colab_type": "text"
      },
      "source": [
        "<a href=\"https://colab.research.google.com/github/tanphi285/AI/blob/main/HomeWork_FuzzyLogic.ipynb\" target=\"_parent\"><img src=\"https://colab.research.google.com/assets/colab-badge.svg\" alt=\"Open In Colab\"/></a>"
      ]
    },
    {
      "cell_type": "code",
      "execution_count": 12,
      "metadata": {
        "colab": {
          "base_uri": "https://localhost:8080/"
        },
        "id": "M2SnxFJB7V2N",
        "outputId": "2db3f55e-8f8b-41e2-dd7a-8f7ddd334471"
      },
      "outputs": [
        {
          "output_type": "stream",
          "name": "stdout",
          "text": [
            "Looking in indexes: https://pypi.org/simple, https://us-python.pkg.dev/colab-wheels/public/simple/\n",
            "Requirement already satisfied: scikit-fuzzy in /usr/local/lib/python3.8/dist-packages (0.4.2)\n",
            "Requirement already satisfied: scipy>=0.9.0 in /usr/local/lib/python3.8/dist-packages (from scikit-fuzzy) (1.10.1)\n",
            "Requirement already satisfied: numpy>=1.6.0 in /usr/local/lib/python3.8/dist-packages (from scikit-fuzzy) (1.22.4)\n",
            "Requirement already satisfied: networkx>=1.9.0 in /usr/local/lib/python3.8/dist-packages (from scikit-fuzzy) (3.0)\n"
          ]
        }
      ],
      "source": [
        "pip install scikit-fuzzy"
      ]
    },
    {
      "cell_type": "code",
      "source": [
        "import numpy as np\n",
        "import skfuzzy as fuzz\n",
        "from skfuzzy import control as ctrl "
      ],
      "metadata": {
        "id": "92DTJz_m7dDe"
      },
      "execution_count": 2,
      "outputs": []
    },
    {
      "cell_type": "code",
      "source": [
        "#######################################################################################################################\n",
        "#******************************  Medical Diagnosis System Using Fuzzy Logic  *************************************\n",
        "#######################################################################################################################"
      ],
      "metadata": {
        "id": "tVGoi_Oz8qMT"
      },
      "execution_count": null,
      "outputs": []
    },
    {
      "cell_type": "code",
      "source": [
        "#Khai bao bien \n",
        "fever = ctrl.Antecedent(np.arange(1,11,1),'fever')\n",
        "headache= ctrl.Antecedent(np.arange(1,11,1),'headache')\n",
        "nausea = ctrl.Antecedent(np.arange(1,11,1),'nausea')\n",
        "vomiting= ctrl.Antecedent(np.arange(1,11,1),'vomiting')\n",
        "jaundice = ctrl.Antecedent(np.arange(1,11,1),'jaundice')\n",
        "enlargedLiver= ctrl.Antecedent(np.arange(1,11,1),'enlargedLiver')\n",
        "jointPain = ctrl.Antecedent(np.arange(1,11,1),'jointPain')\n",
        "bodyWeakness= ctrl.Antecedent(np.arange(1,11,1),'bodyWeakness')\n",
        "dizziness = ctrl.Antecedent(np.arange(1,11,1),'dizziness')\n",
        "lossOfAppetite= ctrl.Antecedent(np.arange(1,11,1),'lossOfAppetite')\n",
        "MP= ctrl.Antecedent(np.arange(1,11,1),'MP')\n",
        "\n",
        "conclusion= ctrl.Consequent(np.arange(1,11,1),'conclusion')"
      ],
      "metadata": {
        "id": "ZMj9aYOQ7kAX"
      },
      "execution_count": 4,
      "outputs": []
    },
    {
      "cell_type": "code",
      "source": [
        "#Cac ham \n",
        "import numpy as np\n",
        "import skfuzzy as fuzz\n",
        "from skfuzzy import control as ctrl \n",
        "\n",
        "fever = ctrl.Antecedent(np.arange(1,11,1),'fever')\n",
        "headache= ctrl.Antecedent(np.arange(1,11,1),'headache')\n",
        "nausea = ctrl.Antecedent(np.arange(1,11,1),'nausea')\n",
        "vomiting= ctrl.Antecedent(np.arange(1,11,1),'vomiting')\n",
        "jaundice = ctrl.Antecedent(np.arange(1,11,1),'jaundice')\n",
        "enlargedLiver= ctrl.Antecedent(np.arange(1,11,1),'enlargedLiver')\n",
        "jointPain = ctrl.Antecedent(np.arange(1,11,1),'jointPain')\n",
        "bodyWeakness= ctrl.Antecedent(np.arange(1,11,1),'bodyWeakness')\n",
        "dizziness = ctrl.Antecedent(np.arange(1,11,1),'dizziness')\n",
        "lossOfAppetite= ctrl.Antecedent(np.arange(1,11,1),'lossOfAppetite')\n",
        "MP= ctrl.Antecedent(np.arange(1,11,1),'MP')\n",
        "\n",
        "conclusion= ctrl.Consequent(np.arange(1,11,1),'conclusion')\n",
        "\n",
        "\n",
        "fever['mild']=fuzz.trimf(fever.universe,[1,1,3])\n",
        "fever['moderate']=fuzz.trimf(fever.universe,[3,5,6])\n",
        "fever['severe']=fuzz.trimf(fever.universe,[6,8,8])\n",
        "fever['very severe']=fuzz.trimf(fever.universe,[8,10,10])\n",
        "\n",
        "headache['mild']=fuzz.trimf(headache.universe,[1,1,3])\n",
        "headache['moderate']=fuzz.trimf(headache.universe,[3,5,6])\n",
        "headache['severe']=fuzz.trimf(headache.universe,[6,8,8])\n",
        "headache['very severe']=fuzz.trimf(headache.universe,[8,10,10])\n",
        "\n",
        "nausea['mild']=fuzz.trimf(nausea.universe,[1,1,3])\n",
        "nausea['moderate']=fuzz.trimf(nausea.universe,[3,5,6])\n",
        "nausea['severe']=fuzz.trimf(nausea.universe,[6,8,8])\n",
        "nausea['very severe']=fuzz.trimf(nausea.universe,[8,10,10])\n",
        "\n",
        "vomiting['mild']=fuzz.trimf(vomiting.universe,[1,1,3])\n",
        "vomiting['moderate']=fuzz.trimf(vomiting.universe,[3,5,6])\n",
        "vomiting['severe']=fuzz.trimf(vomiting.universe,[6,8,8])\n",
        "vomiting['very severe']=fuzz.trimf(vomiting.universe,[8,10,10])\n",
        "\n",
        "jaundice['mild']=fuzz.trimf(jaundice.universe,[1,1,3])\n",
        "jaundice['moderate']=fuzz.trimf(jaundice.universe,[3,5,6])\n",
        "jaundice['severe']=fuzz.trimf(jaundice.universe,[6,8,8])\n",
        "jaundice['very severe']=fuzz.trimf(jaundice.universe,[8,10,10])\n",
        "\n",
        "enlargedLiver['mild']=fuzz.trimf(enlargedLiver.universe,[1,1,3])\n",
        "enlargedLiver['moderate']=fuzz.trimf(enlargedLiver.universe,[3,5,6])\n",
        "enlargedLiver['severe']=fuzz.trimf(enlargedLiver.universe,[6,8,8])\n",
        "enlargedLiver['very severe']=fuzz.trimf(enlargedLiver.universe,[8,10,10])\n",
        "\n",
        "jointPain['mild']=fuzz.trimf(jointPain.universe,[1,1,3])\n",
        "jointPain['moderate']=fuzz.trimf(jointPain.universe,[3,5,6])\n",
        "jointPain['severe']=fuzz.trimf(jointPain.universe,[6,8,8])\n",
        "jointPain['very severe']=fuzz.trimf(jointPain.universe,[8,10,10])\n",
        "\n",
        "bodyWeakness['mild']=fuzz.trimf(bodyWeakness.universe,[1,1,3])\n",
        "bodyWeakness['moderate']=fuzz.trimf(bodyWeakness.universe,[3,5,6])\n",
        "bodyWeakness['severe']=fuzz.trimf(bodyWeakness.universe,[6,8,8])\n",
        "bodyWeakness['very severe']=fuzz.trimf(bodyWeakness.universe,[8,10,10])\n",
        "\n",
        "dizziness['mild']=fuzz.trimf(dizziness.universe,[1,1,3])\n",
        "dizziness['moderate']=fuzz.trimf(dizziness.universe,[3,5,6])\n",
        "dizziness['severe']=fuzz.trimf(dizziness.universe,[6,8,8])\n",
        "dizziness['very severe']=fuzz.trimf(dizziness.universe,[8,10,10])\n",
        "lossOfAppetite['mild']=fuzz.trimf(lossOfAppetite.universe,[1,1,3])\n",
        "lossOfAppetite['moderate']=fuzz.trimf(lossOfAppetite.universe,[3,5,6])\n",
        "lossOfAppetite['severe']=fuzz.trimf(lossOfAppetite.universe,[6,8,8])\n",
        "lossOfAppetite['very severe']=fuzz.trimf(lossOfAppetite.universe,[8,10,10])\n",
        "\n",
        "MP['mild']=fuzz.trimf(MP.universe,[1,1,3])\n",
        "MP['moderate']=fuzz.trimf(MP.universe,[3,5,6])\n",
        "MP['severe']=fuzz.trimf(MP.universe,[6,8,8])\n",
        "MP['very severe']=fuzz.trimf(MP.universe,[8,10,10])\n",
        "\n",
        "conclusion['mild']=fuzz.trimf(conclusion.universe,[1,1,3])\n",
        "conclusion['moderate']=fuzz.trimf(conclusion.universe,[3,5,6])\n",
        "conclusion['severe']=fuzz.trimf(conclusion.universe,[6,8,8])\n",
        "conclusion['very severe']=fuzz.trimf(conclusion.universe,[8,10,10])"
      ],
      "metadata": {
        "id": "QM3X4S7z7xn1"
      },
      "execution_count": 5,
      "outputs": []
    },
    {
      "cell_type": "code",
      "source": [
        "#Tao rule\n",
        "rule1 = ctrl.Rule(fever['mild']&headache['mild']&nausea['mild']&vomiting['mild']&jaundice['mild']&enlargedLiver['mild']&jointPain['mild']&bodyWeakness['mild']&dizziness['severe']&lossOfAppetite['mild']&MP['mild'],conclusion['mild'])\n",
        "rule2 = ctrl.Rule(fever['moderate']&headache['mild']&nausea['mild']&vomiting['mild']&jaundice['mild']&enlargedLiver['mild']&jointPain['moderate']&bodyWeakness['moderate']&dizziness['severe']&lossOfAppetite['severe']&MP['moderate'],conclusion['moderate'])\n",
        "rule3 = ctrl.Rule(fever['severe']&headache['moderate']&nausea['mild']&vomiting['mild']&jaundice['mild']&enlargedLiver['mild']&jointPain['mild']&bodyWeakness['severe']&dizziness['severe']&lossOfAppetite['severe']&MP['moderate'],conclusion['severe'])\n",
        "rule4 = ctrl.Rule(fever['very severe']&headache['mild']&nausea['mild']&vomiting['mild']&jaundice['mild']&enlargedLiver['mild']&jointPain['severe']&bodyWeakness['severe']&dizziness['mild']&lossOfAppetite['mild']&MP['severe'],conclusion['very severe'])\n",
        "rule5 = ctrl.Rule(fever['moderate']&headache['mild']&nausea['mild']&vomiting['moderate']&jaundice['mild']&enlargedLiver['mild']&jointPain['moderate']&bodyWeakness['moderate']&dizziness['moderate']&lossOfAppetite['severe']&MP['moderate'],conclusion['moderate'])\n",
        "rule6 = ctrl.Rule(fever['mild']&headache['moderate']&nausea['moderate']&vomiting['mild']&jaundice['mild']&enlargedLiver['mild']&jointPain['mild']&bodyWeakness['mild']&dizziness['moderate']&lossOfAppetite['mild']&MP['mild'],conclusion['mild'])\n",
        "rule7 = ctrl.Rule(fever['mild']&headache['mild']&nausea['moderate']&vomiting['moderate']&jaundice['mild']&enlargedLiver['mild']&jointPain['severe']&bodyWeakness['severe']&dizziness['moderate']&lossOfAppetite['moderate']&MP['moderate'],conclusion['severe'])\n",
        "rule8 = ctrl.Rule(fever['moderate']&headache['moderate']&nausea['moderate']&vomiting['moderate']&jaundice['moderate']&enlargedLiver['moderate']&jointPain['moderate']&bodyWeakness['moderate']&dizziness['moderate']&lossOfAppetite['moderate']&MP['moderate'],conclusion['moderate'])\n",
        "rule9 = ctrl.Rule(fever['moderate']&headache['mild']&nausea['moderate']&vomiting['moderate']&jaundice['mild']&enlargedLiver['severe']&jointPain['moderate']&bodyWeakness['moderate']&dizziness['severe']&lossOfAppetite['moderate']&MP['moderate'],conclusion['moderate'])\n",
        "rule10 = ctrl.Rule(fever['mild']&headache['mild']&nausea['moderate']&vomiting['moderate']&jaundice['mild']&enlargedLiver['moderate']&jointPain['mild']&bodyWeakness['mild']&dizziness['mild']&lossOfAppetite['mild']&MP['mild'],conclusion['mild'])\n",
        "rule11 = ctrl.Rule(fever['severe']&headache['severe']&nausea['severe']&vomiting['severe']&jaundice['severe']&enlargedLiver['severe']&jointPain['severe']&bodyWeakness['very severe']&dizziness['severe']&lossOfAppetite['severe']&MP['moderate'],conclusion['very severe'])\n",
        "rule12 = ctrl.Rule(fever['moderate']&headache['severe']&nausea['moderate']&vomiting['severe']&jaundice['moderate']&enlargedLiver['severe']&jointPain['moderate']&bodyWeakness['severe']&dizziness['moderate']&lossOfAppetite['mild']&MP['moderate'],conclusion['severe'])\n",
        "rule13 = ctrl.Rule(fever['mild']&headache['moderate']&nausea['moderate']&vomiting['moderate']&jaundice['mild']&enlargedLiver['mild']&jointPain['mild']&bodyWeakness['moderate']&dizziness['mild']&lossOfAppetite['moderate']&MP['moderate'],conclusion['moderate'])\n",
        "rule14 = ctrl.Rule(fever['severe']&headache['severe']&nausea['moderate']&vomiting['severe']&jaundice['severe']&enlargedLiver['severe']&jointPain['severe']&bodyWeakness['severe']&dizziness['moderate']&lossOfAppetite['moderate']&MP['severe'],conclusion['severe'])\n",
        "rule15 = ctrl.Rule(fever['mild']&headache['mild']&nausea['mild']&vomiting['moderate']&jaundice['mild']&enlargedLiver['mild']&jointPain['mild']&bodyWeakness['severe']&dizziness['mild']&lossOfAppetite['severe']&MP['moderate'],conclusion['severe'])\n",
        "rule16 = ctrl.Rule(fever['very severe']&headache['moderate']&nausea['mild']&vomiting['moderate']&jaundice['severe']&enlargedLiver['moderate']&jointPain['mild']&bodyWeakness['very severe']&dizziness['severe']&lossOfAppetite['mild']&MP['moderate'],conclusion['very severe'])\n",
        "rule17 = ctrl.Rule(fever['mild']&headache['very severe']&nausea['moderate']&vomiting['moderate']&jaundice['mild']&enlargedLiver['moderate']&jointPain['mild']&bodyWeakness['moderate']&dizziness['very severe']&lossOfAppetite['mild']&MP['moderate'],conclusion['very severe'])\n",
        "rule18 = ctrl.Rule(fever['moderate']&headache['very severe']&nausea['very severe']&vomiting['mild']&jaundice['severe']&enlargedLiver['severe']&jointPain['moderate']&bodyWeakness['severe']&dizziness['very severe']&lossOfAppetite['very severe']&MP['severe'],conclusion['very severe'])\n",
        "rule19 = ctrl.Rule(fever['moderate']&headache['moderate']&nausea['moderate']&vomiting['moderate']&jaundice['mild']&enlargedLiver['mild']&jointPain['moderate']&bodyWeakness['moderate']&dizziness['moderate']&lossOfAppetite['moderate']&MP['moderate'],conclusion['moderate'])\n",
        "rule20 = ctrl.Rule(fever['very severe']&headache['severe']&nausea['severe']&vomiting['severe']&jaundice['severe']&enlargedLiver['severe']&jointPain['severe']&bodyWeakness['severe']&dizziness['severe']&lossOfAppetite['severe']&MP['moderate'],conclusion['very severe'])\n"
      ],
      "metadata": {
        "id": "KKCHM6Ok79kb"
      },
      "execution_count": 6,
      "outputs": []
    },
    {
      "cell_type": "code",
      "source": [
        "conclusion_ctrl=ctrl.ControlSystem([rule1,rule2, rule3,rule4,rule5,rule6,rule7,rule8,rule9,rule10,rule11,rule12,rule13,rule13,rule14,rule15,rule16,rule17,rule18,rule19,rule20])\n",
        "CtrlConclusion = ctrl.ControlSystemSimulation(conclusion_ctrl)\n",
        "CtrlConclusion.input['fever']=1\n",
        "CtrlConclusion.input['headache']=2\n",
        "CtrlConclusion.input['nausea']=2\n",
        "CtrlConclusion.input['vomiting']=2\n",
        "CtrlConclusion.input['jaundice']=2\n",
        "CtrlConclusion.input['enlargedLiver']=2\n",
        "CtrlConclusion.input['jointPain']=2\n",
        "CtrlConclusion.input['bodyWeakness']=2\n",
        "CtrlConclusion.input['dizziness']=7\n",
        "CtrlConclusion.input['lossOfAppetite']=2\n",
        "CtrlConclusion.input['MP']=2\n",
        "CtrlConclusion.compute()\n",
        "#simulation\n",
        "print(CtrlConclusion.output['conclusion'])\n",
        "conclusion.view(sim=CtrlConclusion)"
      ],
      "metadata": {
        "colab": {
          "base_uri": "https://localhost:8080/",
          "height": 299
        },
        "id": "jzTHsONO8TnD",
        "outputId": "5d9501a2-85f0-446e-b161-743ad318c218"
      },
      "execution_count": 18,
      "outputs": [
        {
          "output_type": "stream",
          "name": "stdout",
          "text": [
            "1.777777777777778\n"
          ]
        },
        {
          "output_type": "display_data",
          "data": {
            "text/plain": [
              "<Figure size 432x288 with 1 Axes>"
            ],
            "image/png": "[encoded data removed]"
          },
          "metadata": {
            "needs_background": "light"
          }
        }
      ]
    },
    {
      "cell_type": "code",
      "source": [
        "\n",
        "\n",
        "#######################################################################################################################\n",
        "#******************************  Adaptive Food Suggestion Engine by Fuzzy Logic  *************************************\n",
        "#######################################################################################################################\n"
      ],
      "metadata": {
        "id": "6xm6vJNP8X3D"
      },
      "execution_count": 19,
      "outputs": []
    },
    {
      "cell_type": "code",
      "source": [
        "#Khai bao bien\n",
        "taste = ctrl.Antecedent(np.arange(0,10.1,0.1), 'taste')\n",
        "environment = ctrl.Antecedent(np.arange(0,10.1,0.1), 'environment')\n",
        "budget = ctrl.Antecedent(np.arange(0,10001,1), 'budget')\n",
        "location = ctrl.Antecedent(np.arange(0,20.1,0.1), 'location')\n",
        "userReview = ctrl.Antecedent(np.arange(0,5.1,0.1), 'userReview')\n",
        "preference = ctrl.Consequent(np.arange(0,9.1,0.1), 'preference')"
      ],
      "metadata": {
        "id": "o3sGYK27-bDm"
      },
      "execution_count": 21,
      "outputs": []
    },
    {
      "cell_type": "code",
      "source": [
        "#Cac ham\n",
        "taste['Low']=fuzz.gaussmf(taste.universe,0,2)\n",
        "taste['Medium']=fuzz.gaussmf(taste.universe,6,1.5)\n",
        "taste['High']=fuzz.gaussmf(taste.universe,10,0.5)\n",
        "\n",
        "environment['Low']=fuzz.gaussmf(environment.universe,0,2)\n",
        "environment['Medium']=fuzz.gaussmf(environment.universe,5,2)\n",
        "environment['High']=fuzz.gaussmf(environment.universe,10,3)\n",
        "\n",
        "\n",
        "budget['Low']=fuzz.gaussmf(budget.universe,0,2000)\n",
        "budget['Medium']=fuzz.gaussmf(budget.universe,4000,2000)\n",
        "budget['High']=fuzz.gaussmf(budget.universe,10000,2000)\n",
        "\n",
        "\n",
        "location['Low']=fuzz.gaussmf(location.universe,0,3)\n",
        "location['Medium']=fuzz.gaussmf(location.universe,10,2)\n",
        "location['High']=fuzz.gaussmf(location.universe,20,6)\n",
        "\n",
        "\n",
        "userReview['Low']=fuzz.gaussmf(userReview.universe,0,0.8)\n",
        "userReview['Medium']=fuzz.gaussmf(userReview.universe,3,0.6)\n",
        "userReview['High']=fuzz.gaussmf(userReview.universe,5,0.2)\n",
        "\n",
        "preference['Lv1'] = fuzz.trimf(preference.universe, [0,1.5,3])\n",
        "preference['Lv2'] = fuzz.trimf(preference.universe, [1.5,3,4.5])\n",
        "preference['Lv3'] = fuzz.trimf(preference.universe, [3,4.5,6])\n",
        "preference['Lv4'] = fuzz.trimf(preference.universe, [4.5,6,7.5])\n",
        "preference['Lv5'] = fuzz.trimf(preference.universe, [6,7.5,9])"
      ],
      "metadata": {
        "id": "B9o9xHRr-naE"
      },
      "execution_count": 22,
      "outputs": []
    },
    {
      "cell_type": "code",
      "source": [
        "#Tao rule\n",
        "rule = []\n",
        "\n",
        "index = ['Low', 'Medium', 'High']\n",
        "level = ['Lv1','Lv2','Lv3','Lv4','Lv5']\n",
        "count=0\n",
        "for a in index:\n",
        "  for b in index:\n",
        "    for c in index:\n",
        "      for d in index:\n",
        "        for e in index:\n",
        "          rule.append(ctrl.Rule(taste[a]&environment[b]&budget[c]&location[d]&userReview[e], preference[level[count]]))\n",
        "          if (a=='Low') and (b=='Low') and (c=='Medium'):\n",
        "            count=1\n",
        "          if (a=='Low') and (b=='Medium') and (c=='Medium'):\n",
        "            count=2\n",
        "          if (a=='Medium') and (b=='High') and (c=='Medium'):\n",
        "            count=3\n",
        "          if (a=='High') and (b=='High') and (c=='Medium'):\n",
        "            count=4\n",
        "\n",
        "preferenceControl = ctrl.ControlSystem(rule[:])"
      ],
      "metadata": {
        "id": "Gf3qnzoK_VyS"
      },
      "execution_count": 23,
      "outputs": []
    },
    {
      "cell_type": "code",
      "source": [
        "#Simulation\n",
        "preferenceSimulation = ctrl.ControlSystemSimulation(preferenceControl)\n",
        "preferenceSimulation.input['taste'] = 10\n",
        "preferenceSimulation.input['environment'] = 5\n",
        "preferenceSimulation.input['budget'] = 100\n",
        "preferenceSimulation.input['location'] = 1\n",
        "preferenceSimulation.input['userReview'] = 3\n",
        "preferenceSimulation.compute()\n",
        "print(preferenceSimulation.output['preference'])\n",
        "preference.view(sim=preferenceSimulation)"
      ],
      "metadata": {
        "colab": {
          "base_uri": "https://localhost:8080/",
          "height": 299
        },
        "id": "jfaY8Y5p_hAd",
        "outputId": "fc665b7a-91f2-4cee-8723-c3c7030f0023"
      },
      "execution_count": 28,
      "outputs": [
        {
          "output_type": "stream",
          "name": "stdout",
          "text": [
            "6.217179324362302\n"
          ]
        },
        {
          "output_type": "display_data",
          "data": {
            "text/plain": [
              "<Figure size 432x288 with 1 Axes>"
            ],
            "image/png": "[encoded data removed]"
          },
          "metadata": {
            "needs_background": "light"
          }
        }
      ]
    },
    {
      "cell_type": "code",
      "source": [],
      "metadata": {
        "id": "vLbU5pnpAHlo"
      },
      "execution_count": null,
      "outputs": []
    }
  ]
}